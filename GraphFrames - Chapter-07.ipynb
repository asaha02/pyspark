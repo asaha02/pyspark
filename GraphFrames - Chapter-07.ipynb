{
 "cells": [
  {
   "cell_type": "code",
   "execution_count": 5,
   "metadata": {
    "collapsed": true
   },
   "outputs": [],
   "source": [
    "import findspark\n",
    "findspark.init()\n",
    "\n",
    "import pyspark # only run after findspark.init()\n",
    "from pyspark.sql import SparkSession\n",
    "spark = SparkSession.builder.getOrCreate()"
   ]
  },
  {
   "cell_type": "code",
   "execution_count": 6,
   "metadata": {},
   "outputs": [
    {
     "data": {
      "text/plain": [
       "DataFrame[IATA: string, City: string, State: string, Country: string]"
      ]
     },
     "execution_count": 6,
     "metadata": {},
     "output_type": "execute_result"
    }
   ],
   "source": [
    "# Set File Paths\n",
    "tripdelaysFilePath = \"/mnt/asaha/Spark/learningPySpark-master/Data/departuredelays.csv\"\n",
    "airportsnaFilePath = \"/mnt/asaha/Spark/learningPySpark-master/Data/airport-codes-na.txt\"\n",
    "\n",
    "# Obtain airports dataset\n",
    "airportsna = spark.read.csv(airportsnaFilePath, header='true', inferSchema='true', sep='\\t')\n",
    "airportsna.createOrReplaceTempView(\"airports_na\")\n",
    "\n",
    "# Obtain departure Delays data\n",
    "departureDelays = spark.read.csv(tripdelaysFilePath, header='true')\n",
    "departureDelays.createOrReplaceTempView(\"departureDelays\")\n",
    "departureDelays.cache()\n",
    "\n",
    "# Available IATA codes from the departuredelays sample dataset\n",
    "tripIATA = spark.sql(\"select distinct iata from (select distinct origin as iata from departureDelays union all select distinct destination as iata from departureDelays) a\")\n",
    "tripIATA.createOrReplaceTempView(\"tripIATA\")\n",
    "\n",
    "# Only include airports with atleast one trip from the departureDelays dataset\n",
    "airports = spark.sql(\"select f.IATA, f.City, f.State, f.Country from airports_na f join tripIATA t on t.IATA = f.IATA\")\n",
    "airports.createOrReplaceTempView(\"airports\")\n",
    "airports.cache()"
   ]
  },
  {
   "cell_type": "code",
   "execution_count": 9,
   "metadata": {},
   "outputs": [
    {
     "data": {
      "text/plain": [
       "1391578"
      ]
     },
     "execution_count": 9,
     "metadata": {},
     "output_type": "execute_result"
    }
   ],
   "source": [
    "departureDelays.count()"
   ]
  },
  {
   "cell_type": "code",
   "execution_count": 7,
   "metadata": {},
   "outputs": [
    {
     "data": {
      "text/plain": [
       "1361141"
      ]
     },
     "execution_count": 7,
     "metadata": {},
     "output_type": "execute_result"
    }
   ],
   "source": [
    "# Build `departureDelays_geo` DataFrame\n",
    "#  Obtain key attributes such as Date of flight, delays, distance, and airport information (Origin, Destination)  \n",
    "departureDelays_geo = spark.sql(\"select cast(f.date as int) as tripid, cast(concat(concat(concat(concat(concat(concat('2014-', concat(concat(substr(cast(f.date as string), 1, 2), '-')), substr(cast(f.date as string), 3, 2)), ' '), substr(cast(f.date as string), 5, 2)), ':'), substr(cast(f.date as string), 7, 2)), ':00') as timestamp) as `localdate`, cast(f.delay as int), cast(f.distance as int), f.origin as src, f.destination as dst, o.city as city_src, d.city as city_dst, o.state as state_src, d.state as state_dst from departuredelays f join airports o on o.iata = f.origin join airports d on d.iata = f.destination\") \n",
    "\n",
    "# Create Temporary View and cache\n",
    "departureDelays_geo.createOrReplaceTempView(\"departureDelays_geo\")\n",
    "departureDelays_geo.cache()\n",
    "\n",
    "# Count\n",
    "departureDelays_geo.count()"
   ]
  },
  {
   "cell_type": "code",
   "execution_count": 11,
   "metadata": {
    "scrolled": true
   },
   "outputs": [
    {
     "name": "stdout",
     "output_type": "stream",
     "text": [
      "+-------+-------------------+-----+--------+---+---+-----------+-------------------+---------+---------+\n",
      "| tripid|          localdate|delay|distance|src|dst|   city_src|           city_dst|state_src|state_dst|\n",
      "+-------+-------------------+-----+--------+---+---+-----------+-------------------+---------+---------+\n",
      "|1011111|2014-01-01 11:11:00|   -5|     221|MSP|INL|Minneapolis|International Falls|       MN|       MN|\n",
      "|1021111|2014-01-02 11:11:00|    7|     221|MSP|INL|Minneapolis|International Falls|       MN|       MN|\n",
      "|1031111|2014-01-03 11:11:00|    0|     221|MSP|INL|Minneapolis|International Falls|       MN|       MN|\n",
      "|1041925|2014-01-04 19:25:00|    0|     221|MSP|INL|Minneapolis|International Falls|       MN|       MN|\n",
      "|1061115|2014-01-06 11:15:00|   33|     221|MSP|INL|Minneapolis|International Falls|       MN|       MN|\n",
      "|1071115|2014-01-07 11:15:00|   23|     221|MSP|INL|Minneapolis|International Falls|       MN|       MN|\n",
      "|1081115|2014-01-08 11:15:00|   -9|     221|MSP|INL|Minneapolis|International Falls|       MN|       MN|\n",
      "|1091115|2014-01-09 11:15:00|   11|     221|MSP|INL|Minneapolis|International Falls|       MN|       MN|\n",
      "|1101115|2014-01-10 11:15:00|   -3|     221|MSP|INL|Minneapolis|International Falls|       MN|       MN|\n",
      "|1112015|2014-01-11 20:15:00|   -7|     221|MSP|INL|Minneapolis|International Falls|       MN|       MN|\n",
      "+-------+-------------------+-----+--------+---+---+-----------+-------------------+---------+---------+\n",
      "only showing top 10 rows\n",
      "\n"
     ]
    }
   ],
   "source": [
    "# Review the top 10 rows of the `departureDelays_geo` DataFrame\n",
    "departureDelays_geo.show(10)"
   ]
  },
  {
   "cell_type": "code",
   "execution_count": 12,
   "metadata": {},
   "outputs": [
    {
     "data": {
      "text/plain": [
       "DataFrame[tripid: int, localdate: timestamp, delay: int, distance: int, src: string, dst: string, city_src: string, city_dst: string, state_src: string, state_dst: string]"
      ]
     },
     "metadata": {},
     "output_type": "display_data"
    }
   ],
   "source": [
    "# Using `display` to view the data\n",
    "display(departureDelays_geo)"
   ]
  },
  {
   "cell_type": "markdown",
   "metadata": {},
   "source": [
    "## Building the Graph\n",
    "Now that we've imported our data, we're going to need to build our graph. To do so we're going to do two things: we are going to build the structure of the vertices (or nodes) and we're going to build the structure of the edges. What's awesome about GraphFrames is that this process is incredibly simple. \n",
    "* Rename IATA airport code to **id** in the Vertices Table\n",
    "* Start and End airports to **src** and **dst** for the Edges Table (flights)"
   ]
  },
  {
   "cell_type": "code",
   "execution_count": 8,
   "metadata": {},
   "outputs": [
    {
     "data": {
      "text/plain": [
       "DataFrame[id: string, City: string, State: string, Country: string]"
      ]
     },
     "execution_count": 8,
     "metadata": {},
     "output_type": "execute_result"
    }
   ],
   "source": [
    "# Create Vertices (airports) and Edges (flights)\n",
    "tripVertices = airports.withColumnRenamed(\"IATA\", \"id\").distinct()\n",
    "tripEdges = departureDelays_geo.select(\"tripid\", \"delay\", \"src\", \"dst\", \"city_dst\", \"state_dst\")\n",
    "\n",
    "# Cache Vertices and Edges\n",
    "tripEdges.cache()\n",
    "tripVertices.cache()"
   ]
  },
  {
   "cell_type": "code",
   "execution_count": 14,
   "metadata": {},
   "outputs": [
    {
     "data": {
      "text/plain": [
       "DataFrame[id: string, City: string, State: string, Country: string]"
      ]
     },
     "metadata": {},
     "output_type": "display_data"
    }
   ],
   "source": [
    "# Vertices\n",
    "# The vertices of our graph are the airports\n",
    "display(tripVertices)"
   ]
  },
  {
   "cell_type": "code",
   "execution_count": 15,
   "metadata": {},
   "outputs": [
    {
     "data": {
      "text/plain": [
       "DataFrame[tripid: int, delay: int, src: string, dst: string, city_dst: string, state_dst: string]"
      ]
     },
     "metadata": {},
     "output_type": "display_data"
    }
   ],
   "source": [
    "# Edges\n",
    "# The edges of our graph are the flights between airports\n",
    "display(tripEdges)"
   ]
  },
  {
   "cell_type": "code",
   "execution_count": 22,
   "metadata": {},
   "outputs": [
    {
     "name": "stdout",
     "output_type": "stream",
     "text": [
      "GraphFrame(v:[id: string, City: string ... 2 more fields], e:[src: string, dst: string ... 4 more fields])\n",
      "GraphFrame(v:[id: string, City: string ... 2 more fields], e:[src: string, dst: string ... 2 more fields])\n"
     ]
    }
   ],
   "source": [
    "# Note, ensure you have already installed the GraphFrames spack-package\n",
    "\n",
    "spark.sparkContext.addPyFile('/mnt/asaha/Spark/spark-2.3.2-bin-hadoop2.7/jars/graphframes_graphframes-0.6.0-spark2.3-s_2.11.jar')\n",
    "from graphframes import *\n",
    "\n",
    "# Build `tripGraph` GraphFrame\n",
    "# This GraphFrame builds up on the vertices and edges based on our trips (flights)\n",
    "tripGraph = GraphFrame(tripVertices, tripEdges)\n",
    "print (tripGraph)\n",
    "\n",
    "# Build `tripGraphPrime` GraphFrame\n",
    "# This graphframe contains a smaller subset of data to make it easier to display motifs and subgraphs (below)\n",
    "tripEdgesPrime = departureDelays_geo.select(\"tripid\", \"delay\", \"src\", \"dst\")\n",
    "tripGraphPrime = GraphFrame(tripVertices, tripEdgesPrime)\n",
    "print (tripGraphPrime)"
   ]
  },
  {
   "cell_type": "markdown",
   "metadata": {
    "collapsed": true
   },
   "source": [
    "## Simple Queries\n",
    "Let's start with a set of simple graph queries to understand flight performance and departure delays"
   ]
  },
  {
   "cell_type": "markdown",
   "metadata": {},
   "source": [
    "#### Determine the number of airports and trips"
   ]
  },
  {
   "cell_type": "code",
   "execution_count": 15,
   "metadata": {},
   "outputs": [
    {
     "name": "stdout",
     "output_type": "stream",
     "text": [
      "Airports: 279\n",
      "Trips: 1361141\n"
     ]
    }
   ],
   "source": [
    "print (\"Airports: %d\" % tripGraph.vertices.count())\n",
    "print (\"Trips: %d\" % tripGraph.edges.count())"
   ]
  },
  {
   "cell_type": "markdown",
   "metadata": {},
   "source": [
    "#### Determining the longest delay in this dataset"
   ]
  },
  {
   "cell_type": "code",
   "execution_count": 16,
   "metadata": {},
   "outputs": [
    {
     "name": "stdout",
     "output_type": "stream",
     "text": [
      "+----------+\n",
      "|max(delay)|\n",
      "+----------+\n",
      "|      1642|\n",
      "+----------+\n",
      "\n"
     ]
    }
   ],
   "source": [
    "tripGraph.edges.groupBy().max(\"delay\").show()"
   ]
  },
  {
   "cell_type": "code",
   "execution_count": 18,
   "metadata": {},
   "outputs": [
    {
     "data": {
      "text/plain": [
       "DataFrame[max(delay): int]"
      ]
     },
     "metadata": {},
     "output_type": "display_data"
    }
   ],
   "source": [
    "# Finding the longest Delay\n",
    "longestDelay = tripGraph.edges.groupBy().max(\"delay\")\n",
    "display(longestDelay)"
   ]
  },
  {
   "cell_type": "markdown",
   "metadata": {},
   "source": [
    "#### Determining the number of delayed vs. on-time / early flights"
   ]
  },
  {
   "cell_type": "code",
   "execution_count": 19,
   "metadata": {},
   "outputs": [
    {
     "name": "stdout",
     "output_type": "stream",
     "text": [
      "On-time / Early Flights: 780469\n",
      "Delayed Flights: 580672\n"
     ]
    }
   ],
   "source": [
    "# Determining number of on-time / early flights vs. delayed flights\n",
    "print (\"On-time / Early Flights: %d\" % tripGraph.edges.filter(\"delay <= 0\").count())\n",
    "print (\"Delayed Flights: %d\" % tripGraph.edges.filter(\"delay > 0\").count())"
   ]
  },
  {
   "cell_type": "markdown",
   "metadata": {},
   "source": [
    "#### What flights departing SEA are most likely to have significant delays\n",
    "Note, delay can be <= 0 meaning the flight left on time or early"
   ]
  },
  {
   "cell_type": "code",
   "execution_count": 20,
   "metadata": {},
   "outputs": [
    {
     "name": "stdout",
     "output_type": "stream",
     "text": [
      "+---+---+------------------+\n",
      "|src|dst|        avg(delay)|\n",
      "+---+---+------------------+\n",
      "|SEA|PHL|55.666666666666664|\n",
      "|SEA|COS| 43.53846153846154|\n",
      "|SEA|FAT| 43.03846153846154|\n",
      "|SEA|LGB| 39.39705882352941|\n",
      "|SEA|IAD|37.733333333333334|\n",
      "+---+---+------------------+\n",
      "only showing top 5 rows\n",
      "\n"
     ]
    }
   ],
   "source": [
    "tripGraph.edges\\\n",
    "  .filter(\"src = 'SEA' and delay > 0\")\\\n",
    "  .groupBy(\"src\", \"dst\")\\\n",
    "  .avg(\"delay\")\\\n",
    "  .sort(desc(\"avg(delay)\"))\\\n",
    "  .show(5)"
   ]
  },
  {
   "cell_type": "code",
   "execution_count": 21,
   "metadata": {},
   "outputs": [
    {
     "data": {
      "text/plain": [
       "DataFrame[src: string, dst: string, avg(delay): double]"
      ]
     },
     "metadata": {},
     "output_type": "display_data"
    }
   ],
   "source": [
    "display(tripGraph.edges.filter(\"src = 'SEA' and delay > 0\").groupBy(\"src\", \"dst\").avg(\"delay\").sort(desc(\"avg(delay)\")))"
   ]
  }
 ],
 "metadata": {
  "kernelspec": {
   "display_name": "Python 3",
   "language": "python",
   "name": "python3"
  },
  "language_info": {
   "codemirror_mode": {
    "name": "ipython",
    "version": 3
   },
   "file_extension": ".py",
   "mimetype": "text/x-python",
   "name": "python",
   "nbconvert_exporter": "python",
   "pygments_lexer": "ipython3",
   "version": "3.6.3"
  }
 },
 "nbformat": 4,
 "nbformat_minor": 2
}
